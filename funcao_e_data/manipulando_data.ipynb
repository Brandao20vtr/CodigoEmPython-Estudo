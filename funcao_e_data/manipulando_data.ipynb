{
 "cells": [
  {
   "cell_type": "markdown",
   "id": "d368049c",
   "metadata": {},
   "source": [
    "# Datetime\n",
    "Essa biblioteca permite ao usuário fazer manipulações nas datas.\n",
    "##### Documentação: https://pandas.pydata.org/docs/user_guide/timeseries.html"
   ]
  },
  {
   "cell_type": "code",
   "execution_count": 3,
   "id": "ec96d29f",
   "metadata": {},
   "outputs": [],
   "source": [
    "# Importando a biblioteca\n",
    "# Nomeando 'datetime' como 'dt'\n",
    "import datetime as dt"
   ]
  },
  {
   "cell_type": "code",
   "execution_count": 4,
   "id": "ae85fec8",
   "metadata": {},
   "outputs": [],
   "source": [
    "# Capturando a hora atual\n",
    "atual = dt.datetime.now() "
   ]
  },
  {
   "cell_type": "code",
   "execution_count": 5,
   "id": "c94d984f",
   "metadata": {},
   "outputs": [
    {
     "data": {
      "text/plain": [
       "datetime.datetime(2022, 4, 30, 19, 16, 45, 164408)"
      ]
     },
     "execution_count": 5,
     "metadata": {},
     "output_type": "execute_result"
    }
   ],
   "source": [
    "# Visualizando\n",
    "atual"
   ]
  },
  {
   "cell_type": "markdown",
   "id": "501abf67",
   "metadata": {},
   "source": [
    "## Criando a própria data"
   ]
  },
  {
   "cell_type": "code",
   "execution_count": 13,
   "id": "180f83f7",
   "metadata": {},
   "outputs": [],
   "source": [
    "date = dt.time(20, 34, 12)   # Hora, Minutos e Segundos"
   ]
  },
  {
   "cell_type": "code",
   "execution_count": 14,
   "id": "3d388fcd",
   "metadata": {},
   "outputs": [
    {
     "name": "stdout",
     "output_type": "stream",
     "text": [
      "Horário:  20:34:12\n"
     ]
    }
   ],
   "source": [
    "# Visualizando\n",
    "print('Horário: ', date)"
   ]
  },
  {
   "cell_type": "code",
   "execution_count": 15,
   "id": "cb7731bd",
   "metadata": {},
   "outputs": [
    {
     "name": "stdout",
     "output_type": "stream",
     "text": [
      "Hour:  20\n",
      "Minute:  34\n",
      "Second:  12\n",
      "Microsecond:  0\n"
     ]
    }
   ],
   "source": [
    "# Agora vamos extrair informações dessa data 'date' criada\n",
    "print('Hour: ', date.hour)   # Pegando a hora\n",
    "print('Minute: ', date.minute)   # Pegando os minutos\n",
    "print('Second: ', date.second)   # Pegando os segundos\n",
    "print('Microsecond: ', date.microsecond)   # Pegando os microsegundos"
   ]
  },
  {
   "cell_type": "code",
   "execution_count": 16,
   "id": "872c1367",
   "metadata": {},
   "outputs": [],
   "source": [
    "# Extraindo a data de 'HOJE' - dia atual\n",
    "hoje = dt.date.today()"
   ]
  },
  {
   "cell_type": "code",
   "execution_count": 17,
   "id": "a329ab2a",
   "metadata": {},
   "outputs": [
    {
     "name": "stdout",
     "output_type": "stream",
     "text": [
      "2022-04-30\n",
      "Data Completa:  Sat Apr 30 00:00:00 2022\n",
      "Ano:  2022\n",
      "Mês:  4\n",
      "Dia:  30\n"
     ]
    }
   ],
   "source": [
    "print(hoje)\n",
    "print('Data Completa: ', hoje.ctime())   # ctime --> Tras a data completa\n",
    "print('Ano: ', hoje.year)   # Extrai o ano\n",
    "print('Mês: ', hoje.month)   # Extrai o mês\n",
    "print('Dia: ', hoje.day)   # Extrai o dia"
   ]
  },
  {
   "cell_type": "markdown",
   "id": "23c7b644",
   "metadata": {},
   "source": [
    "## Cálculos com datas"
   ]
  },
  {
   "cell_type": "code",
   "execution_count": 19,
   "id": "2bfa2ff8",
   "metadata": {},
   "outputs": [],
   "source": [
    "# Criando primeira data\n",
    "# d1 --> Variável que receberá a data criada\n",
    "d1 = dt.date(2005, 6, 13)"
   ]
  },
  {
   "cell_type": "code",
   "execution_count": 20,
   "id": "b9298516",
   "metadata": {},
   "outputs": [],
   "source": [
    "# Criando segunda data\n",
    "# d2 --> Variável que receberá a data criada\n",
    "d2 = dt.date(1990, 11, 30)"
   ]
  },
  {
   "cell_type": "code",
   "execution_count": 21,
   "id": "3dc34067",
   "metadata": {},
   "outputs": [
    {
     "data": {
      "text/plain": [
       "datetime.timedelta(days=5309)"
      ]
     },
     "execution_count": 21,
     "metadata": {},
     "output_type": "execute_result"
    }
   ],
   "source": [
    "# Agora iremos subtrair as datas\n",
    "# O resultado estará em quantidade de dias\n",
    "d1 - d2"
   ]
  }
 ],
 "metadata": {
  "kernelspec": {
   "display_name": "Python 3 (ipykernel)",
   "language": "python",
   "name": "python3"
  },
  "language_info": {
   "codemirror_mode": {
    "name": "ipython",
    "version": 3
   },
   "file_extension": ".py",
   "mimetype": "text/x-python",
   "name": "python",
   "nbconvert_exporter": "python",
   "pygments_lexer": "ipython3",
   "version": "3.9.7"
  }
 },
 "nbformat": 4,
 "nbformat_minor": 5
}
