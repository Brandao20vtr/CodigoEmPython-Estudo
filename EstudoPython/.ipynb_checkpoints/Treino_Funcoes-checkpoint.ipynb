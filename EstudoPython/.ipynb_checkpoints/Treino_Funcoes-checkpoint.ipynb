{
 "cells": [
  {
   "cell_type": "markdown",
   "id": "97a3c579",
   "metadata": {},
   "source": [
    "# Funções em Python"
   ]
  },
  {
   "cell_type": "code",
   "execution_count": 1,
   "id": "8479927b",
   "metadata": {},
   "outputs": [],
   "source": [
    "# CRIANDO UMA FUNÇÃO\n",
    "# def --> Chama a função\n",
    "# primeiraFuncao --> É o nome que foi atribuído para a função\n",
    "# () --> Está vazio porque não foi atribuído parâmetro\n",
    "def primeiraFuncao():\n",
    "    print('Hello World!')"
   ]
  },
  {
   "cell_type": "code",
   "execution_count": 2,
   "id": "b9790256",
   "metadata": {},
   "outputs": [
    {
     "name": "stdout",
     "output_type": "stream",
     "text": [
      "Hello World!\n"
     ]
    }
   ],
   "source": [
    "primeiraFuncao()"
   ]
  },
  {
   "cell_type": "code",
   "execution_count": 3,
   "id": "a136d7b0",
   "metadata": {},
   "outputs": [],
   "source": [
    "# DEFININDO UM PARÂMETRO\n",
    "# (nome) --> Atribuído um parâmetro 'nome' que receberá um valor\n",
    "def primeiraFuncao(nome):\n",
    "    print('Hello %s'%(nome))   # Quando for atribuído valor para o parâmetro, ele será colocado na frase"
   ]
  },
  {
   "cell_type": "code",
   "execution_count": 4,
   "id": "d051cf66",
   "metadata": {},
   "outputs": [
    {
     "name": "stdout",
     "output_type": "stream",
     "text": [
      "Hello Vitor\n"
     ]
    }
   ],
   "source": [
    "# Depois da função criada é atribuído um valor ao parâmetro\n",
    "primeiraFuncao('Vitor')   # O valor do parâmetro é 'Vitor'"
   ]
  },
  {
   "cell_type": "code",
   "execution_count": 5,
   "id": "f0afe2c0",
   "metadata": {},
   "outputs": [],
   "source": [
    "# FUNÇÃO COM FOR\n",
    "def funcLeitura():\n",
    "    for i in range(0, 5):   # Fará uma contagem de 0 á 4 exclusive o 5, conta 5 valores: 0, 1, 2, 3, 4\n",
    "        print('Número ' + str(i))   # A variável 'i' que passará por cada valor será colocada aqui"
   ]
  },
  {
   "cell_type": "code",
   "execution_count": 6,
   "id": "6b732757",
   "metadata": {},
   "outputs": [
    {
     "name": "stdout",
     "output_type": "stream",
     "text": [
      "Número 0\n",
      "Número 1\n",
      "Número 2\n",
      "Número 3\n",
      "Número 4\n"
     ]
    }
   ],
   "source": [
    "funcLeitura()"
   ]
  },
  {
   "cell_type": "markdown",
   "id": "57cf4a8d",
   "metadata": {},
   "source": [
    "# Criando uma função usando outra função"
   ]
  },
  {
   "cell_type": "code",
   "execution_count": 7,
   "id": "470e528c",
   "metadata": {},
   "outputs": [],
   "source": [
    "# Importando pacote 'Matemática'\n",
    "import math\n",
    "\n",
    "def numPrimo(num):\n",
    "    if (num % 2) == 0 and num > 2:\n",
    "        return 'Esse número não é primo.'\n",
    "    \n",
    "    for i in range(3, int(math.sqrt(num)) + 1,  2):\n",
    "        if (num % i) == 0:\n",
    "            return 'Esse número não é primo.'\n",
    "        \n",
    "    return 'Esse número é primo.'"
   ]
  },
  {
   "cell_type": "code",
   "execution_count": 8,
   "id": "50dd1c91",
   "metadata": {},
   "outputs": [
    {
     "data": {
      "text/plain": [
       "'Esse número é primo.'"
      ]
     },
     "execution_count": 8,
     "metadata": {},
     "output_type": "execute_result"
    }
   ],
   "source": [
    "numPrimo(541)"
   ]
  },
  {
   "cell_type": "markdown",
   "id": "023f4a4c",
   "metadata": {},
   "source": [
    "# Fazendo 'split' dos dados"
   ]
  },
  {
   "cell_type": "code",
   "execution_count": 9,
   "id": "685fcc23",
   "metadata": {},
   "outputs": [],
   "source": [
    "def splitString(text):\n",
    "    return text.split(' ')"
   ]
  },
  {
   "cell_type": "code",
   "execution_count": 10,
   "id": "1a851cc9",
   "metadata": {},
   "outputs": [],
   "source": [
    "text = 'Now I am learning functions in Python'"
   ]
  },
  {
   "cell_type": "code",
   "execution_count": 11,
   "id": "9f8391d7",
   "metadata": {},
   "outputs": [
    {
     "name": "stdout",
     "output_type": "stream",
     "text": [
      "['Now', 'I', 'am', 'learning', 'functions', 'in', 'Python']\n"
     ]
    }
   ],
   "source": [
    "print(splitString(text))"
   ]
  },
  {
   "cell_type": "code",
   "execution_count": 12,
   "id": "b8ec1f95",
   "metadata": {},
   "outputs": [],
   "source": [
    "def splitString(text):\n",
    "    return text.upper()"
   ]
  },
  {
   "cell_type": "code",
   "execution_count": 13,
   "id": "84f9baa5",
   "metadata": {},
   "outputs": [
    {
     "data": {
      "text/plain": [
       "'NOW I AM LEARNING FUNCTIONS IN PYTHON'"
      ]
     },
     "execution_count": 13,
     "metadata": {},
     "output_type": "execute_result"
    }
   ],
   "source": [
    "splitString(text)"
   ]
  },
  {
   "cell_type": "code",
   "execution_count": 14,
   "id": "efe927a6",
   "metadata": {},
   "outputs": [],
   "source": [
    "def splitString(text):\n",
    "    return text.lower()"
   ]
  },
  {
   "cell_type": "code",
   "execution_count": 15,
   "id": "60240159",
   "metadata": {},
   "outputs": [],
   "source": [
    "texto = splitString(text)"
   ]
  },
  {
   "cell_type": "code",
   "execution_count": 16,
   "id": "bf9979c9",
   "metadata": {},
   "outputs": [
    {
     "name": "stdout",
     "output_type": "stream",
     "text": [
      "now i am learning functions in python\n"
     ]
    }
   ],
   "source": [
    "print(texto)"
   ]
  },
  {
   "cell_type": "markdown",
   "id": "3311ea2b",
   "metadata": {},
   "source": [
    "# Fazendo conta com função"
   ]
  },
  {
   "cell_type": "code",
   "execution_count": 17,
   "id": "8917a2e0",
   "metadata": {},
   "outputs": [],
   "source": [
    "def pagamento(qtdHoras, valorHora):\n",
    "    horas = qtdHoras   # Variável hora receberá a quantidade de horas trabalhadas\n",
    "    taxa = valorHora   # Variável receberá valor trabalhado por hora\n",
    "   \n",
    "    if horas <= 40:   # Se horas for menor e igual a 40\n",
    "        salario = horas * taxa   # Salário será horas multiplicado pela taxa\n",
    "   \n",
    "    else:   # Se não\n",
    "        horaExcd = horas - 40   # Horas excedidas será igual a hora menos 40\n",
    "        salario = 40 * taxa + (horaExcd * (1.5 * taxa))   # E salário será igual 40 * taxa + (horaExcd * (1.5 * taxa))\n",
    "       \n",
    "    return salario   # Retorne o salário\n"
   ]
  },
  {
   "cell_type": "code",
   "execution_count": 18,
   "id": "76d7dcc9",
   "metadata": {},
   "outputs": [
    {
     "name": "stdout",
     "output_type": "stream",
     "text": [
      "Digite quantidade de horas trabalhadas: 45\n",
      "Digite o valor da hora trabalhada: R$ 159\n",
      "O valor do seu salário é R$ 7552.50\n"
     ]
    }
   ],
   "source": [
    "# Criando input para receber os valores\n",
    "strHora = float(input('Digite quantidade de horas trabalhadas: '))\n",
    "strTaxa = float(input('Digite o valor da hora trabalhada: R$ '))\n",
    "\n",
    "totalSalario = pagamento(strHora, strTaxa)\n",
    "\n",
    "print('O valor do seu salário é R$ %.2f'%totalSalario)"
   ]
  },
  {
   "cell_type": "markdown",
   "id": "b99a8933",
   "metadata": {},
   "source": [
    "# Parâmetros nomeados\n"
   ]
  },
  {
   "cell_type": "code",
   "execution_count": 31,
   "id": "cadf4d6c",
   "metadata": {},
   "outputs": [],
   "source": [
    "# Essa função receberá dois parâmetros\n",
    "def calculoIMC(peso, altura):\n",
    "    print('Seu IMC: %.2f'%((peso / altura) ** 2))   # Cálculo do IMC"
   ]
  },
  {
   "cell_type": "code",
   "execution_count": 32,
   "id": "0a799871",
   "metadata": {},
   "outputs": [
    {
     "name": "stdout",
     "output_type": "stream",
     "text": [
      "Seu IMC: 1946.37\n"
     ]
    }
   ],
   "source": [
    "# Visualizando resultado\n",
    "calculoIMC(peso = 75, altura = 1.70)\n",
    "\n",
    "# Com a nomeação dos parâmetro podemos identificar qual valor é o que,\n",
    "# porque se colocassemos 'calculoIMC(75, 1.70)' o programa não iria,\n",
    "# identidicar o que seria cada um dos valores, por isso nesse caso\n",
    "# podemos nomear cada um dos parâmetro"
   ]
  },
  {
   "cell_type": "markdown",
   "id": "289c7e27",
   "metadata": {},
   "source": [
    "# Imprimindo mais valores"
   ]
  },
  {
   "cell_type": "code",
   "execution_count": 33,
   "id": "7ee6eb30",
   "metadata": {},
   "outputs": [],
   "source": [
    "def nomes(nome):\n",
    "    print(f'Nome: {nome}')"
   ]
  },
  {
   "cell_type": "code",
   "execution_count": 36,
   "id": "68ad7ea4",
   "metadata": {},
   "outputs": [
    {
     "name": "stdout",
     "output_type": "stream",
     "text": [
      "Nome: Vitor\n",
      "Nome: Gustavo\n",
      "Nome: Rafael\n",
      "Nome: Bruno\n"
     ]
    }
   ],
   "source": [
    "nomes('Vitor')\n",
    "nomes('Gustavo')\n",
    "nomes('Rafael')\n",
    "nomes('Bruno')"
   ]
  },
  {
   "cell_type": "markdown",
   "id": "6a768241",
   "metadata": {},
   "source": [
    "# Valores Padão\n",
    "Serve para dar um valor quando a pessoa chamou a função e não passou nenhum valor para os parâmetros definidos."
   ]
  },
  {
   "cell_type": "code",
   "execution_count": 37,
   "id": "f85f21c9",
   "metadata": {},
   "outputs": [],
   "source": [
    "# Deixo definido os valores na definição dos parâmetros\n",
    "def flor(flor = 'Orquídea', cor = 'Azul'):\n",
    "    print(f'A cor da {flor} é {cor}.')"
   ]
  },
  {
   "cell_type": "code",
   "execution_count": 38,
   "id": "d04668bd",
   "metadata": {},
   "outputs": [
    {
     "name": "stdout",
     "output_type": "stream",
     "text": [
      "A cor da Orquídea é Azul.\n"
     ]
    }
   ],
   "source": [
    "# Chamando apenas a função\n",
    "flor()"
   ]
  },
  {
   "cell_type": "code",
   "execution_count": 39,
   "id": "b49c0b63",
   "metadata": {},
   "outputs": [
    {
     "name": "stdout",
     "output_type": "stream",
     "text": [
      "A cor da Rosa é Vermelha.\n"
     ]
    }
   ],
   "source": [
    "# Atribuindo outras informações\n",
    "flor('Rosa', 'Vermelha')"
   ]
  },
  {
   "cell_type": "markdown",
   "id": "6cd6cf35",
   "metadata": {},
   "source": [
    "# Mais teste com funções"
   ]
  },
  {
   "cell_type": "code",
   "execution_count": 26,
   "id": "43457d17",
   "metadata": {},
   "outputs": [],
   "source": [
    "def quadrado(n):\n",
    "    return n ** 2"
   ]
  },
  {
   "cell_type": "code",
   "execution_count": 33,
   "id": "bd522128",
   "metadata": {},
   "outputs": [
    {
     "name": "stdout",
     "output_type": "stream",
     "text": [
      "O Número 2 elevado ao quadrado é 4.\n"
     ]
    }
   ],
   "source": [
    "x = 2\n",
    "print(f'O Número {x} elevado ao quadrado é {quadrado(x)}.')"
   ]
  },
  {
   "cell_type": "code",
   "execution_count": 34,
   "id": "10165773",
   "metadata": {},
   "outputs": [],
   "source": [
    "# Retornando mais valores\n",
    "def quocienteResto(x, y):\n",
    "    quociente = x // y\n",
    "    resto = x % y\n",
    "    return (quociente, resto)"
   ]
  },
  {
   "cell_type": "code",
   "execution_count": 38,
   "id": "a2e0b09f",
   "metadata": {},
   "outputs": [
    {
     "name": "stdout",
     "output_type": "stream",
     "text": [
      "Quociente  e resto: (0, 12)\n"
     ]
    }
   ],
   "source": [
    "print(f'Quociente  e resto: {quocienteResto(12, 33)}')"
   ]
  },
  {
   "cell_type": "markdown",
   "id": "97ee7850",
   "metadata": {},
   "source": [
    "# Funções Anônimas - Lambda\n",
    "A palavra-chave lambda em Python nos permite criar funções anônimas. Este tipo de função é útil quando desejamos passar uma função simples como argumento para outra função."
   ]
  },
  {
   "cell_type": "code",
   "execution_count": 41,
   "id": "f67ffbe2",
   "metadata": {},
   "outputs": [
    {
     "name": "stdout",
     "output_type": "stream",
     "text": [
      "[0, 1, 4, 9, 16, 25, 36, 49, 64, 81]\n"
     ]
    }
   ],
   "source": [
    "# Retornaremos uma nova lista contendo cada número da lista de entrada elevado ao quadrado.\n",
    "def calculandoQuadrado01(x):\n",
    "    return x ** 2\n",
    "\n",
    "# Retorna uma lista com range(10) calculando todos ao quadrado\n",
    "print(list(map(calculandoQuadrado01, range(10))))"
   ]
  },
  {
   "cell_type": "code",
   "execution_count": 43,
   "id": "4491e1f3",
   "metadata": {},
   "outputs": [],
   "source": [
    "# Fazendo a mesma coisa porém agora utilizando 'lambda'\n",
    "def calculandoQuadrado02(y):\n",
    "    return y"
   ]
  },
  {
   "cell_type": "code",
   "execution_count": 44,
   "id": "f4a4d7ce",
   "metadata": {},
   "outputs": [
    {
     "name": "stdout",
     "output_type": "stream",
     "text": [
      "[0, 1, 4, 9, 16, 25, 36, 49, 64, 81]\n"
     ]
    }
   ],
   "source": [
    "print(list(map(lambda y: y **2, range(10))))"
   ]
  },
  {
   "cell_type": "markdown",
   "id": "74a25117",
   "metadata": {},
   "source": [
    "# Função Posicional\n",
    "Quando chamamos uma função, podemos utilizar a localização dos parâmetros para fazer o casamento entre o que foi chamado e o que foi definido na função."
   ]
  },
  {
   "cell_type": "code",
   "execution_count": 51,
   "id": "720b8e1f",
   "metadata": {},
   "outputs": [],
   "source": [
    "def montaComputador(cpu = '', armazenamento = 0, memoria = 0):\n",
    "    print(f'Configuração do computador: \\\n",
    "          - CPU: {cpu} \\\n",
    "          - Armazenamento: {armazenamento} \\\n",
    "          - Memória: {memoria}Gb')"
   ]
  },
  {
   "cell_type": "code",
   "execution_count": 52,
   "id": "ae7f713f",
   "metadata": {},
   "outputs": [
    {
     "name": "stdout",
     "output_type": "stream",
     "text": [
      "Configuração do computador: \n",
      "- CPU: Intel Core I9 \n",
      "- Armazenamento: 4 \n",
      "- Memória: 64Gb\n"
     ]
    }
   ],
   "source": [
    "montaComputador('Intel Core I9', 4, 64)"
   ]
  },
  {
   "cell_type": "markdown",
   "id": "e959da01",
   "metadata": {},
   "source": [
    "O programador que escreveu a chamada da função monta_computador está respeitando a posição dos parâmetros, ou seja:\n",
    "\n",
    "- O valor __*\"Intel Core i9\"*__ é referente ao primeiro parâmetro __*(cpu)*__\n",
    "- O valor __*4*__ é referente ao segundo parâmetro __*(armazenamento)*__\n",
    "- O valor __*64*__ se refere ao terceiro parâmetro __*(memoria)*__\n",
    "\n",
    "\n",
    "Essa é uma chamada de função posicional, ou seja: que respeita a ordem dos parâmetros."
   ]
  },
  {
   "cell_type": "code",
   "execution_count": null,
   "id": "cfacbfdc",
   "metadata": {},
   "outputs": [],
   "source": []
  },
  {
   "cell_type": "code",
   "execution_count": null,
   "id": "d35e28d7",
   "metadata": {},
   "outputs": [],
   "source": []
  }
 ],
 "metadata": {
  "kernelspec": {
   "display_name": "Python 3 (ipykernel)",
   "language": "python",
   "name": "python3"
  },
  "language_info": {
   "codemirror_mode": {
    "name": "ipython",
    "version": 3
   },
   "file_extension": ".py",
   "mimetype": "text/x-python",
   "name": "python",
   "nbconvert_exporter": "python",
   "pygments_lexer": "ipython3",
   "version": "3.9.7"
  }
 },
 "nbformat": 4,
 "nbformat_minor": 5
}
